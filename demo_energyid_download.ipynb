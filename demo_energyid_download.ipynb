{
 "cells": [
  {
   "cell_type": "markdown",
   "metadata": {},
   "source": [
    "# Introduction\n",
    "\n",
    "This is a simple example of how to use the `energyid` library to download data from the EnergyID API. We then save this data to file, so we can use it in other analyses. See the [EnergyID API documentation](https://api.energyid.eu/docs.html) for more information on the API."
   ]
  },
  {
   "cell_type": "markdown",
   "metadata": {},
   "source": [
    "## Step 1: Import"
   ]
  },
  {
   "cell_type": "code",
   "execution_count": null,
   "metadata": {},
   "outputs": [],
   "source": [
    "import json\n",
    "import energyid\n",
    "from openenergyid import TimeSeries, const"
   ]
  },
  {
   "cell_type": "markdown",
   "metadata": {},
   "source": [
    "## Step 2: Instantiate clients\n",
    "\n",
    "To instantiate a client, you need a Client ID, Client Secret and a username and password. We load them from a json file, but you can also pass them directly to the client."
   ]
  },
  {
   "cell_type": "code",
   "execution_count": null,
   "metadata": {},
   "outputs": [],
   "source": [
    "with open('secrets.json') as f:\n",
    "    secrets = json.load(f)"
   ]
  },
  {
   "cell_type": "code",
   "execution_count": null,
   "metadata": {},
   "outputs": [],
   "source": [
    "client = energyid.PandasClient(\n",
    "    client_id=secrets['EnergyID_CLIENTID'],\n",
    "    client_secret=secrets['EnergyID_CLIENTSECRET']\n",
    ")\n",
    "client.authenticate(\n",
    "    username=secrets['EnergyID_USERNAME'],\n",
    "    password=secrets['EnergyID_PASSWORD']\n",
    ")"
   ]
  },
  {
   "cell_type": "markdown",
   "metadata": {},
   "source": [
    "## Step 3: Get data"
   ]
  },
  {
   "cell_type": "code",
   "execution_count": null,
   "metadata": {},
   "outputs": [],
   "source": [
    "record = client.get_record(record_id=secrets[\"RECORDS\"][\"RECORD_1\"])"
   ]
  },
  {
   "cell_type": "code",
   "execution_count": null,
   "metadata": {},
   "outputs": [],
   "source": [
    "energy_balance = record.get_data(\n",
    "    name='energyBalanceByCarrier',\n",
    "    start='2023-01-01',\n",
    "    end='2024-01-01',\n",
    "    interval='PT15M'\n",
    ")"
   ]
  },
  {
   "cell_type": "code",
   "execution_count": null,
   "metadata": {},
   "outputs": [],
   "source": [
    "# Rename to standard metric names used in the Open Energy Library\n",
    "\n",
    "energy_balance.columns = [const.ELECTRICITY_DELIVERED, const.ELECTRICITY_PRODUCED, const.ELECTRICITY_EXPORTED]"
   ]
  },
  {
   "cell_type": "code",
   "execution_count": null,
   "metadata": {},
   "outputs": [],
   "source": [
    "energy_balance.index.name = None"
   ]
  },
  {
   "cell_type": "code",
   "execution_count": null,
   "metadata": {},
   "outputs": [],
   "source": [
    "series = TimeSeries.from_pandas(energy_balance)"
   ]
  },
  {
   "cell_type": "code",
   "execution_count": null,
   "metadata": {},
   "outputs": [],
   "source": [
    "series.to_json(path='data/energy_balance_PT15M.json', indent=2)"
   ]
  }
 ],
 "metadata": {
  "kernelspec": {
   "display_name": "Python 3",
   "language": "python",
   "name": "python3"
  },
  "language_info": {
   "codemirror_mode": {
    "name": "ipython",
    "version": 3
   },
   "file_extension": ".py",
   "mimetype": "text/x-python",
   "name": "python",
   "nbconvert_exporter": "python",
   "pygments_lexer": "ipython3",
   "version": "3.9.2"
  }
 },
 "nbformat": 4,
 "nbformat_minor": 2
}
