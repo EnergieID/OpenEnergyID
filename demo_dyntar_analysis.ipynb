{
 "cells": [
  {
   "cell_type": "markdown",
   "metadata": {},
   "source": [
    "# Introduction\n",
    "\n",
    "This notebook is a demo of the Dynamic Tariff Analysis algorithm (version 2) on EnergyID.\n",
    "\n",
    "We try to answer the question: \"Is a dynamic tariff advantageous for me?\".\n",
    "We do this by comparing billing based on SMR3 meter readings (15 minute granularity), also known as a dynamic tariff,\n",
    "with billing based on (virtualised) SMR2 meter readings (eg. the monthly sum of the SMR3 readings).\n",
    "\n",
    "By re-dividing the monthly sum of the SMR3 readings back into 15 minute intervals, using the RLP and SPP profiles, we create a \"15 minute SMR2\" series, that can easily be compared with the SMR3 series."
   ]
  },
  {
   "cell_type": "markdown",
   "metadata": {},
   "source": [
    "## Imports"
   ]
  },
  {
   "cell_type": "code",
   "execution_count": null,
   "metadata": {},
   "outputs": [],
   "source": [
    "import pandas as pd\n",
    "\n",
    "from openenergyid.dyntar import DynamicTariffAnalysisInput, DynamicTariffAnalysisOutput, calculate_dyntar_columns\n",
    "\n",
    "import seaborn as sns\n",
    "from matplotlib.colors import TwoSlopeNorm\n",
    "import matplotlib.pyplot as plt"
   ]
  },
  {
   "cell_type": "markdown",
   "metadata": {},
   "source": [
    "## Input Data\n",
    "\n",
    "The input data is a JSON file, containing a DynamicTariffAnalysisInput object.\n",
    "\n",
    "The object needs to have following columns in 15-minute intervals:\n",
    "- `electricity_delivered`\n",
    "- `electricity_exported`\n",
    "- `price_electricity_delivered`\n",
    "- `price_electricity_exported`\n",
    "- `RLP`\n",
    "- `SPP`"
   ]
  },
  {
   "cell_type": "code",
   "execution_count": null,
   "metadata": {},
   "outputs": [],
   "source": [
    "data = DynamicTariffAnalysisInput.from_json(path='data/dyntar/sample.json')\n",
    "\n",
    "df = data.to_pandas()\n",
    "\n",
    "df"
   ]
  },
  {
   "cell_type": "markdown",
   "metadata": {},
   "source": [
    "## Analysis"
   ]
  },
  {
   "cell_type": "markdown",
   "metadata": {},
   "source": [
    "We calculate a bunch of extra columns\n",
    "\n",
    "- From the 2 electricity columns, `electricity_delivered` and `electricity_exported`, we make 4:\n",
    "    - `electricity_delivered_smr3` and `electricity_exported_smr3` are the original SMR3 readings\n",
    "    - `electricity_delivered_smr2` and `electricity_exported_smr2` are the virtualised SMR2 readings\n",
    "- We calculate the cost for each of these 4 columns, by multiplying the electricity with the price.\n",
    "- We add the RLP and SPP weighted prices as well.\n",
    "- We calculate the Heatmap Scores according to the formula: TODO"
   ]
  },
  {
   "cell_type": "code",
   "execution_count": null,
   "metadata": {},
   "outputs": [],
   "source": [
    "df = calculate_dyntar_columns(df)"
   ]
  },
  {
   "cell_type": "code",
   "execution_count": null,
   "metadata": {},
   "outputs": [],
   "source": [
    "df"
   ]
  },
  {
   "cell_type": "code",
   "execution_count": null,
   "metadata": {},
   "outputs": [],
   "source": [
    "output_model = DynamicTariffAnalysisOutput.from_pandas(df)\n",
    "\n",
    "output_model.to_json(path='data/dyntar/sample_output.json')"
   ]
  },
  {
   "cell_type": "markdown",
   "metadata": {},
   "source": [
    "# Visualisation"
   ]
  },
  {
   "cell_type": "code",
   "execution_count": null,
   "metadata": {},
   "outputs": [],
   "source": [
    "from openenergyid.dyntar.const import *"
   ]
  },
  {
   "cell_type": "markdown",
   "metadata": {},
   "source": [
    "# Detail Graphs for one month\n",
    "\n",
    "To show the difference between the SMR2 and SMR3 profiles, we show the following graphs"
   ]
  },
  {
   "cell_type": "code",
   "execution_count": null,
   "metadata": {},
   "outputs": [],
   "source": [
    "result_slice = df.truncate(before=pd.Timestamp('2024-03-01', tz='Europe/Brussels'), after=pd.Timestamp('2024-03-31T23:45:00', tz='Europe/Brussels'))"
   ]
  },
  {
   "cell_type": "code",
   "execution_count": null,
   "metadata": {},
   "outputs": [],
   "source": [
    "# Show line graphs of electricty delivered for SMR2 and SMR3\n",
    "\n",
    "fig, ax = plt.subplots()\n",
    "# Set the size of the figure\n",
    "fig.set_size_inches(12, 8)\n",
    "\n",
    "# Give both lines a bit of transparency\n",
    "result_slice[[ELECTRICITY_DELIVERED_SMR2, ELECTRICITY_DELIVERED_SMR3]].plot(ax=ax, alpha=0.7)\n",
    "\n",
    "# Set the labels\n",
    "ax.set_ylabel('Elektriciteit [kWh/15 min]')\n",
    "ax.set_xlabel('Datum')\n",
    "\n",
    "# horizontal ticks\n",
    "plt.xticks(rotation=45)\n",
    "\n",
    "# Title of the graph: \"Afname van elektriciteit in maart 2024\"\n",
    "plt.title('Afname van elektriciteit in maart 2024')\n",
    "\n",
    "\n",
    "\n",
    "plt.show()"
   ]
  },
  {
   "cell_type": "code",
   "execution_count": null,
   "metadata": {},
   "outputs": [],
   "source": [
    "# Show line graphs of electricty exported for SMR2 and SMR3\n",
    "\n",
    "fig, ax = plt.subplots()\n",
    "# Set the size of the figure\n",
    "fig.set_size_inches(12, 8)\n",
    "\n",
    "# Give both lines a bit of transparency\n",
    "result_slice[[ELECTRICITY_EXPORTED_SMR2, ELECTRICITY_EXPORTED_SMR3]].plot(ax=ax, alpha=0.7)\n",
    "\n",
    "# Set the labels\n",
    "ax.set_ylabel('Elektriciteit [kWh/15 min]')\n",
    "ax.set_xlabel('Datum')\n",
    "\n",
    "# horizontal ticks\n",
    "plt.xticks(rotation=45)\n",
    "\n",
    "# Title of the graph: \"Teruglevering van elektriciteit in maart 2024\"\n",
    "plt.title('Teruglevering van elektriciteit in maart 2024')\n",
    "\n",
    "plt.show()"
   ]
  },
  {
   "cell_type": "code",
   "execution_count": null,
   "metadata": {},
   "outputs": [],
   "source": [
    "# Show a bar graph of the costs of electricity delivered and exported for SMR2 and SMR3\n",
    "# Stack the cost for exported electricity under the cost for delivered electricity\n",
    "\n",
    "fig, ax = plt.subplots()\n",
    "\n",
    "# Set the size of the figure\n",
    "fig.set_size_inches(12, 8)\n",
    "\n",
    "# Create a stacked bar graph\n",
    "\n",
    "slice = result_slice[[COST_ELECTRICITY_DELIVERED_SMR2, COST_ELECTRICITY_DELIVERED_SMR3, COST_ELECTRICITY_EXPORTED_SMR2, COST_ELECTRICITY_EXPORTED_SMR3]].resample('D').sum()\n",
    "# Multiply the exported electricity costs by -1 to make them negative\n",
    "slice[COST_ELECTRICITY_EXPORTED_SMR2] *= -1\n",
    "slice[COST_ELECTRICITY_EXPORTED_SMR3] *= -1\n",
    "\n",
    "# Offset SMR2 to the left and SMR3 to the right\n",
    "slice[[COST_ELECTRICITY_DELIVERED_SMR2, COST_ELECTRICITY_EXPORTED_SMR2]].plot(kind='bar', stacked=True, ax=ax, alpha=0.7, position=0.5, colormap='viridis')\n",
    "slice[[COST_ELECTRICITY_DELIVERED_SMR3, COST_ELECTRICITY_EXPORTED_SMR3]].plot(kind='bar', stacked=True, ax=ax, alpha=0.7, position=-0.5)\n",
    "\n",
    "# Make the bars thinner to make them more distinguishable\n",
    "for bar in ax.patches:\n",
    "    bar.set_width(0.4)\n",
    "\n",
    "# Set the labels\n",
    "\n",
    "ax.set_ylabel('Kosten [€/15 min]')\n",
    "\n",
    "ax.set_xlabel('Datum')\n",
    "\n",
    "# horizontal ticks\n",
    "\n",
    "plt.xticks(rotation=45)\n",
    "\n",
    "# Title of the graph: \"Kosten van elektriciteit in maart 2024\"\n",
    "\n",
    "plt.title('Kosten van elektriciteit in maart 2024')\n",
    "\n",
    "plt.show()"
   ]
  },
  {
   "cell_type": "code",
   "execution_count": null,
   "metadata": {},
   "outputs": [],
   "source": [
    "heatmap_plot = result_slice[HEATMAP_TOTAL].to_frame()\n",
    "\n",
    "heatmap_plot['date'] = heatmap_plot.index.date\n",
    "heatmap_plot['time'] = heatmap_plot.index.time\n",
    "\n",
    "heatmap_plot = heatmap_plot.pivot(index='date', columns='time', values=HEATMAP_TOTAL)\n",
    "\n",
    "min_ = heatmap_plot.min().min()\n",
    "max = heatmap_plot.max().max()\n",
    "\n",
    "abs_max = max if abs(max) > abs(min_) else abs(min_)\n",
    "\n",
    "# Plot the carpetplot\n",
    "\n",
    "fig, ax = plt.subplots()\n",
    "\n",
    "# Set figsize\n",
    "fig.set_size_inches(20, 10)\n",
    "\n",
    "# Choose a colormap that goes from red to green, with 0 in the middle\n",
    "\n",
    "rdgn = sns.diverging_palette(h_neg=10, h_pos=130, s=99, l=55, sep=3, as_cmap=True)\n",
    "divnorm = TwoSlopeNorm(vmin=abs_max*-1, vcenter=0, vmax=abs_max)\n",
    "sns.heatmap(heatmap_plot, cmap=rdgn, norm=divnorm,\n",
    "            linewidths=.5, linecolor='black', cbar=True, ax=ax)\n",
    "\n",
    "plt.title('Heatmap score combined')\n",
    "plt.ylabel(None)\n",
    "plt.xlabel(None)\n",
    "\n",
    "# x-axis label rotated\n",
    "\n",
    "plt.xticks(rotation=45)\n",
    "\n",
    "plt.tight_layout()\n",
    "\n",
    "plt.show()"
   ]
  },
  {
   "cell_type": "code",
   "execution_count": null,
   "metadata": {},
   "outputs": [],
   "source": []
  }
 ],
 "metadata": {
  "kernelspec": {
   "display_name": "Python 3",
   "language": "python",
   "name": "python3"
  },
  "language_info": {
   "codemirror_mode": {
    "name": "ipython",
    "version": 3
   },
   "file_extension": ".py",
   "mimetype": "text/x-python",
   "name": "python",
   "nbconvert_exporter": "python",
   "pygments_lexer": "ipython3",
   "version": "3.9.2"
  }
 },
 "nbformat": 4,
 "nbformat_minor": 2
}
