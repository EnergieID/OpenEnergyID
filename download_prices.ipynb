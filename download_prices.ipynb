{
 "cells": [
  {
   "cell_type": "code",
   "execution_count": 1,
   "metadata": {},
   "outputs": [],
   "source": [
    "import entsoe\n",
    "import json\n",
    "import pandas as pd\n",
    "\n",
    "from openenergyid import const, TimeSeries"
   ]
  },
  {
   "cell_type": "code",
   "execution_count": 2,
   "metadata": {},
   "outputs": [],
   "source": [
    "with open('secrets.json') as f:\n",
    "    secrets = json.load(f)"
   ]
  },
  {
   "cell_type": "code",
   "execution_count": 3,
   "metadata": {},
   "outputs": [],
   "source": [
    "client = entsoe.EntsoePandasClient(\n",
    "    api_key=secrets['ENTSOE_APIKEY']\n",
    ")"
   ]
  },
  {
   "cell_type": "code",
   "execution_count": 4,
   "metadata": {},
   "outputs": [],
   "source": [
    "da_prices = client.query_day_ahead_prices(\n",
    "    country_code='BE',\n",
    "    start=pd.Timestamp('2020-01-01', tz='Europe/Brussels'),\n",
    "    end=pd.Timestamp('2023-12-21', tz='Europe/Brussels'),\n",
    ")"
   ]
  },
  {
   "cell_type": "code",
   "execution_count": 5,
   "metadata": {},
   "outputs": [],
   "source": [
    "da_prices = da_prices.to_frame(name=const.PRICE_DAY_AHEAD)"
   ]
  },
  {
   "cell_type": "code",
   "execution_count": 6,
   "metadata": {},
   "outputs": [],
   "source": [
    "series = TimeSeries.from_pandas(da_prices)"
   ]
  },
  {
   "cell_type": "code",
   "execution_count": 7,
   "metadata": {},
   "outputs": [],
   "source": [
    "series.to_json(path='data/da_prices_be.json', indent=2)"
   ]
  },
  {
   "cell_type": "code",
   "execution_count": 8,
   "metadata": {},
   "outputs": [],
   "source": [
    "imbalance_prices = client.query_imbalance_prices(\n",
    "    country_code='BE',\n",
    "    start=pd.Timestamp('2020-01-01', tz='Europe/Brussels'),\n",
    "    end=pd.Timestamp('2023-12-21', tz='Europe/Brussels'),\n",
    ")"
   ]
  }
 ],
 "metadata": {
  "kernelspec": {
   "display_name": "Python 3",
   "language": "python",
   "name": "python3"
  },
  "language_info": {
   "codemirror_mode": {
    "name": "ipython",
    "version": 3
   },
   "file_extension": ".py",
   "mimetype": "text/x-python",
   "name": "python",
   "nbconvert_exporter": "python",
   "pygments_lexer": "ipython3",
   "version": "3.9.2"
  }
 },
 "nbformat": 4,
 "nbformat_minor": 2
}
