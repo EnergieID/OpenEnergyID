{
 "cells": [
  {
   "cell_type": "markdown",
   "metadata": {},
   "source": [
    "# Introduction\n",
    "\n",
    "This notebook is a demonstration of the *Multivariable Linear Regression*\n",
    "\n",
    "The *Multivariable Linear Regression* package (short: `mvlr`) can be found in the `openergyid.mvlr` module."
   ]
  },
  {
   "cell_type": "markdown",
   "metadata": {},
   "source": [
    "## Step 1: Importing the libraries"
   ]
  },
  {
   "cell_type": "code",
   "execution_count": null,
   "metadata": {},
   "outputs": [],
   "source": [
    "from openenergyid.mvlr import MultiVariableRegressionInput, find_best_mvlr"
   ]
  },
  {
   "cell_type": "markdown",
   "metadata": {},
   "source": [
    "## Step 2: Loading Input Data\n",
    "\n",
    "In the `data` folder, a few json samples are stored.\n",
    "\n",
    "The input model is described by the `MultivariableRegressionInput` class. You can find the class definition in the `openergyid.mvlr` module, or you can use `MultiVariableRegressionInput.model_json_schema()` to get the json schema of the input model.\n",
    "\n",
    "By using the `MultiVariableRegressionInput.model_validate_json()` method, you can load the input model from a json file with automatic validation. Regular constructors are also available."
   ]
  },
  {
   "cell_type": "code",
   "execution_count": null,
   "metadata": {},
   "outputs": [],
   "source": [
    "with open('data/mvlr/sample_gas.json', 'r') as f:\n",
    "    input_data = MultiVariableRegressionInput.model_validate_json(f.read())"
   ]
  },
  {
   "cell_type": "code",
   "execution_count": null,
   "metadata": {},
   "outputs": [],
   "source": [
    "input_data.model_dump()"
   ]
  },
  {
   "cell_type": "markdown",
   "metadata": {},
   "source": [
    "## Step 4: Running the model\n",
    "\n",
    "The `find_best_mvlr` function is the main function of the `mvlr` module. It takes an input model and returns a `MultivariableRegressionOutput` object."
   ]
  },
  {
   "cell_type": "code",
   "execution_count": null,
   "metadata": {},
   "outputs": [],
   "source": [
    "result = find_best_mvlr(input_data)"
   ]
  },
  {
   "cell_type": "code",
   "execution_count": null,
   "metadata": {},
   "outputs": [],
   "source": [
    "result.model_dump()"
   ]
  },
  {
   "cell_type": "code",
   "execution_count": null,
   "metadata": {},
   "outputs": [],
   "source": []
  }
 ],
 "metadata": {
  "kernelspec": {
   "display_name": "Python 3",
   "language": "python",
   "name": "python3"
  },
  "language_info": {
   "codemirror_mode": {
    "name": "ipython",
    "version": 3
   },
   "file_extension": ".py",
   "mimetype": "text/x-python",
   "name": "python",
   "nbconvert_exporter": "python",
   "pygments_lexer": "ipython3",
   "version": "3.9.2"
  }
 },
 "nbformat": 4,
 "nbformat_minor": 2
}
