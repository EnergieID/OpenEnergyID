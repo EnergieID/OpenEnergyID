{
 "cells": [
  {
   "cell_type": "code",
   "execution_count": null,
   "metadata": {},
   "outputs": [],
   "source": [
    "import polars as pl\n",
    "\n",
    "%load_ext autoreload\n",
    "%autoreload 2"
   ]
  },
  {
   "cell_type": "markdown",
   "metadata": {},
   "source": [
    "# Base Load Analysis Demo with Polars\n",
    "\n",
    "This notebook demonstrates analyzing base load (standby power consumption) using the BaseloadAnalyzer class. Base load represents the minimum continuous power draw in a system.\n",
    "\n",
    "## Key Metrics\n",
    "1. Base load value in WATTS - Consistent minimum power draw\n",
    "2. Energy consumption in kWh - Power used over time\n",
    "3. Base load percentage - Portion of total consumption that is baseline\n",
    "\n",
    "## Data Requirements\n",
    "Input data (LazyFrame):\n",
    "- timestamp: datetime with timezone\n",
    "- total: energy readings in kWh (15-minute intervals)"
   ]
  },
  {
   "cell_type": "markdown",
   "metadata": {},
   "source": [
    "\n",
    "> ⚠️**Note:** we have several example files available,  \n",
    "> *energy_use_big* is from a giant building with incredible base load.  \n",
    "> *energy_use_test1* is from a regular family residence.\n"
   ]
  },
  {
   "cell_type": "code",
   "execution_count": 14,
   "metadata": {},
   "outputs": [],
   "source": [
    "from openenergyid.baseload.analysis import BaseloadAnalyzer\n",
    "\n",
    "# Define schema for data loading\n",
    "schema = {\"timestamp\": pl.Datetime(time_zone=\"Europe/Brussels\"), \"total\": pl.Float64}\n",
    "\n",
    "# Load example data with schema\n",
    "energy_data = pl.scan_ndjson(\"data/PP/energy_use_test1.ndjson\", schema=schema)"
   ]
  },
  {
   "cell_type": "markdown",
   "metadata": {},
   "source": [
    "## Initialize Analyzer\n",
    "Set up analyzer with timezone and quantile settings"
   ]
  },
  {
   "cell_type": "code",
   "execution_count": 15,
   "metadata": {},
   "outputs": [],
   "source": [
    "# Create analyzer (5% quantile = ~72 min of lowest daily values)\n",
    "analyzer = BaseloadAnalyzer(timezone=\"Europe/Brussels\", quantile=0.15)\n",
    "\n",
    "# Convert energy readings to power series\n",
    "power_data = analyzer.prepare_power_seriespolars(energy_data)"
   ]
  },
  {
   "cell_type": "markdown",
   "metadata": {},
   "source": [
    "## Analyze at Different Time Scales\n",
    "Demonstrate flexibility in analysis periods"
   ]
  },
  {
   "cell_type": "code",
   "execution_count": null,
   "metadata": {},
   "outputs": [],
   "source": [
    "# Analyze at different granularities\n",
    "hourly = analyzer.analyze(power_data, \"1h\").collect()\n",
    "daily = analyzer.analyze(power_data, \"1d\").collect()\n",
    "monthly = analyzer.analyze(power_data, \"1mo\").collect()\n",
    "\n",
    "# Show monthly summary\n",
    "print(\"Monthly Base Load Analysis:\")\n",
    "print(monthly.select([\"timestamp\", \"average_daily_baseload_in_watt\", \"baseload_ratio\"]).head())"
   ]
  },
  {
   "cell_type": "markdown",
   "metadata": {},
   "source": [
    "## Visualization Example\n",
    "Plot daily base load vs total consumption"
   ]
  },
  {
   "cell_type": "code",
   "execution_count": null,
   "metadata": {},
   "outputs": [],
   "source": [
    "import plotly.express as px\n",
    "import plotly.graph_objects as go\n",
    "\n",
    "# Convert to pandas for plotting\n",
    "daily_pd = daily.to_pandas()\n",
    "\n",
    "# Create figure with basic lines\n",
    "fig = px.line(\n",
    "    daily_pd,\n",
    "    x=\"timestamp\",\n",
    "    y=[\"consumption_due_to_baseload_in_kilowatthour\", \"total_consumption_in_kilowatthour\"],\n",
    "    title=\"Daily Base Load vs Total Consumption\",\n",
    "    labels={\"value\": \"Energy (kWh)\", \"variable\": \"Type\"},\n",
    ")\n",
    "\n",
    "# Add average lines\n",
    "fig.add_hline(\n",
    "    y=daily_pd[\"consumption_due_to_baseload_in_kilowatthour\"].mean(),\n",
    "    line_dash=\"dash\",\n",
    "    line_color=\"blue\",\n",
    "    annotation_text=\"Average Base Load\",\n",
    ")\n",
    "\n",
    "fig.add_hline(\n",
    "    y=daily_pd[\"total_consumption_in_kilowatthour\"].mean(),\n",
    "    line_dash=\"dash\",\n",
    "    line_color=\"red\",\n",
    "    annotation_text=\"Average Total Consumption\",\n",
    ")\n",
    "\n",
    "# Update colors and legend\n",
    "fig.update_traces(\n",
    "    name=\"Base Load\",\n",
    "    line_color=\"blue\",\n",
    "    selector=dict(name=\"consumption_due_to_baseload_in_kilowatthour\"),\n",
    ")\n",
    "fig.update_traces(\n",
    "    name=\"Total Consumption\",\n",
    "    line_color=\"red\",\n",
    "    selector=dict(name=\"total_consumption_in_kilowatthour\"),\n",
    ")\n",
    "\n",
    "fig.show()"
   ]
  },
  {
   "cell_type": "code",
   "execution_count": null,
   "metadata": {},
   "outputs": [],
   "source": [
    "import polars as pl\n",
    "import plotly.express as px\n",
    "\n",
    "# Load data with schema\n",
    "schema = {\"timestamp\": pl.Datetime(time_zone=\"Europe/Brussels\"), \"total\": pl.Float64}\n",
    "energy_data = pl.scan_ndjson(\"data/PP/energy_use_test1.ndjson\", schema=schema).sort(\"timestamp\")\n",
    "\n",
    "\n",
    "# Analyze with different quantiles\n",
    "def analyze_quantile(q: float):\n",
    "    analyzer = BaseloadAnalyzer(timezone=\"Europe/Brussels\", quantile=q)\n",
    "    power_data = analyzer.prepare_power_seriespolars(energy_data)\n",
    "    return analyzer.analyze(power_data, \"1d\").collect()\n",
    "\n",
    "\n",
    "# Get results for different quantiles\n",
    "q05 = analyze_quantile(0.05)\n",
    "q10 = analyze_quantile(0.10)\n",
    "q15 = analyze_quantile(0.15)\n",
    "\n",
    "# Create visualization\n",
    "fig = go.Figure()\n",
    "\n",
    "# Add lines for each quantile\n",
    "for data, q in [(q05, \"5%\"), (q10, \"10%\"), (q15, \"15%\")]:\n",
    "    fig.add_trace(\n",
    "        go.Scatter(\n",
    "            x=data[\"timestamp\"],\n",
    "            y=data[\"consumption_due_to_baseload_in_kilowatthour\"],\n",
    "            name=f\"Base Load (q={q})\",\n",
    "            mode=\"lines\",\n",
    "        )\n",
    "    )\n",
    "\n",
    "# Add total consumption line\n",
    "fig.add_trace(\n",
    "    go.Scatter(\n",
    "        x=q05[\"timestamp\"],\n",
    "        y=q05[\"total_consumption_in_kilowatthour\"],\n",
    "        name=\"Total Consumption\",\n",
    "        mode=\"lines\",\n",
    "        line=dict(color=\"gray\", dash=\"dot\"),  # Make it dotted gray to distinguish\n",
    "    )\n",
    ")\n",
    "\n",
    "fig.update_layout(\n",
    "    title=\"Base Load Comparison - Different Quantiles\",\n",
    "    xaxis_title=\"Date\",\n",
    "    yaxis_title=\"Energy (kWh)\",\n",
    ")\n",
    "\n",
    "fig.show()\n",
    "\n",
    "# Print average values\n",
    "print(\"\\nAverage Base Load (kWh):\")\n",
    "print(f\"5% quantile: {q05['consumption_due_to_baseload_in_kilowatthour'].mean():.3f}\")\n",
    "print(f\"10% quantile: {q10['consumption_due_to_baseload_in_kilowatthour'].mean():.3f}\")\n",
    "print(f\"15% quantile: {q15['consumption_due_to_baseload_in_kilowatthour'].mean():.3f}\")"
   ]
  },
  {
   "cell_type": "code",
   "execution_count": null,
   "metadata": {},
   "outputs": [],
   "source": [
    "monthly\n",
    "# daily"
   ]
  },
  {
   "cell_type": "markdown",
   "metadata": {},
   "source": [
    "## Key Insights\n",
    "- Base load typically accounts for 20-40% of total consumption\n",
    "- Higher ratios may indicate energy saving opportunities\n",
    "- Analysis maintains timezone awareness throughout"
   ]
  }
 ],
 "metadata": {
  "kernelspec": {
   "display_name": "openenergyid-Nm3FK_LY-py3.11",
   "language": "python",
   "name": "python3"
  },
  "language_info": {
   "codemirror_mode": {
    "name": "ipython",
    "version": 3
   },
   "file_extension": ".py",
   "mimetype": "text/x-python",
   "name": "python",
   "nbconvert_exporter": "python",
   "pygments_lexer": "ipython3",
   "version": "3.11.9"
  }
 },
 "nbformat": 4,
 "nbformat_minor": 2
}
