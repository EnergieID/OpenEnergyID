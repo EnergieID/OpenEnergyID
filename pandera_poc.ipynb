{
 "cells": [
  {
   "cell_type": "code",
   "execution_count": 1,
   "metadata": {},
   "outputs": [],
   "source": [
    "%load_ext autoreload\n",
    "%autoreload 2\n",
    "import json\n",
    "from openenergyid.pandera_poc.models import InputModel, OutputModel"
   ]
  },
  {
   "cell_type": "markdown",
   "metadata": {},
   "source": [
    "# Polars with Pandera for type checking\n",
    "\n",
    "\n",
    "interesting overview\n",
    "* https://pola.rs/posts/polars_birds_eye_view/\n",
    "\n",
    "useful links\n",
    "* https://www.rhosignal.com/posts/polars-pandas-cheatsheet/\n",
    "* https://www.rhosignal.com/posts/pandas-to-polars-time-series/\n",
    "* https://pandera.readthedocs.io/en/latest/polars.html#how-it-works\n",
    "* https://github.com/unionai-oss/pandera\n"
   ]
  },
  {
   "cell_type": "code",
   "execution_count": 2,
   "metadata": {},
   "outputs": [
    {
     "name": "stdout",
     "output_type": "stream",
     "text": [
      "{\n",
      "  \"schema_type\": \"dataframe\",\n",
      "  \"version\": \"0.20.3\",\n",
      "  \"columns\": {\n",
      "    \"column1\": {\n",
      "      \"title\": null,\n",
      "      \"description\": null,\n",
      "      \"dtype\": \"Int64\",\n",
      "      \"nullable\": false,\n",
      "      \"checks\": {\n",
      "        \"less_than_or_equal_to\": 10\n",
      "      },\n",
      "      \"unique\": false,\n",
      "      \"coerce\": false,\n",
      "      \"required\": true,\n",
      "      \"regex\": false\n",
      "    },\n",
      "    \"column2\": {\n",
      "      \"title\": null,\n",
      "      \"description\": null,\n",
      "      \"dtype\": \"Float64\",\n",
      "      \"nullable\": false,\n",
      "      \"checks\": {\n",
      "        \"less_than\": -1.2\n",
      "      },\n",
      "      \"unique\": false,\n",
      "      \"coerce\": false,\n",
      "      \"required\": true,\n",
      "      \"regex\": false\n",
      "    },\n",
      "    \"column3\": {\n",
      "      \"title\": null,\n",
      "      \"description\": null,\n",
      "      \"dtype\": \"String\",\n",
      "      \"nullable\": false,\n",
      "      \"checks\": {\n",
      "        \"str_startswith\": \"value_\"\n",
      "      },\n",
      "      \"unique\": false,\n",
      "      \"coerce\": false,\n",
      "      \"required\": true,\n",
      "      \"regex\": false\n",
      "    }\n",
      "  },\n",
      "  \"checks\": null,\n",
      "  \"index\": null,\n",
      "  \"dtype\": null,\n",
      "  \"coerce\": false,\n",
      "  \"strict\": false,\n",
      "  \"name\": \"InputModel\",\n",
      "  \"ordered\": false,\n",
      "  \"unique\": null,\n",
      "  \"report_duplicates\": \"all\",\n",
      "  \"unique_column_names\": false,\n",
      "  \"add_missing_columns\": false,\n",
      "  \"title\": null,\n",
      "  \"description\": \"Pandera schema for input data validation.\"\n",
      "}\n"
     ]
    },
    {
     "name": "stderr",
     "output_type": "stream",
     "text": [
      "c:\\Users\\oscar\\AppData\\Local\\pypoetry\\Cache\\virtualenvs\\openenergyid-qN5dCgVl-py3.11\\Lib\\site-packages\\pandera\\schema_statistics\\pandas.py:150: UserWarning: Only registered checks may be serialized to statistics. Did you forget to register it with the extension API? Check `column_3_check` will be skipped.\n",
      "  warnings.warn(\n"
     ]
    }
   ],
   "source": [
    "# %run \"openenergyid\\pandera_poc\\models.py\" # ipynb just keeps NOT refreshing my code in the notebook, so I have to add this\n",
    "\n",
    "# Input Model Specification\n",
    "print(json.dumps(json.loads(InputModel.to_schema().to_json()), indent=2))  # type: ignore"
   ]
  },
  {
   "cell_type": "code",
   "execution_count": 3,
   "metadata": {},
   "outputs": [
    {
     "data": {
      "text/plain": [
       "Schema([('column1', Int64), ('column2', Float64), ('column3', String)])"
      ]
     },
     "metadata": {},
     "output_type": "display_data"
    },
    {
     "data": {
      "text/plain": [
       "Schema([('column1', String), ('column2', Float64), ('column3', String)])"
      ]
     },
     "metadata": {},
     "output_type": "display_data"
    },
    {
     "data": {
      "text/html": [
       "<i>naive plan: (run <b>LazyFrame.explain(optimized=True)</b> to see the optimized plan)</i>\n",
       "    <p></p>\n",
       "    <div>DF [\"column1\", \"column2\", \"column3\"]; PROJECT */3 COLUMNS; SELECTION: None</div>"
      ],
      "text/plain": [
       "<LazyFrame at 0x233FF9A3B10>"
      ]
     },
     "execution_count": 3,
     "metadata": {},
     "output_type": "execute_result"
    }
   ],
   "source": [
    "# Input data is pure python\n",
    "import polars as pl\n",
    "\n",
    "# we use a polars lazy frame for optimal performance\n",
    "# https://pandera.readthedocs.io/en/latest/polars.html#how-it-works\n",
    "lf = pl.LazyFrame(\n",
    "    {\n",
    "        \"column1\": [1, 4, 0, 10, 9],\n",
    "        \"column2\": [-1.3, -1.4, -2.9, -10.1, -20.4],\n",
    "        \"column3\": [\"value_1\", \"value_2\", \"value_3\", \"value_2\", \"value_1\"],\n",
    "    }\n",
    ")\n",
    "wrong_lazy_frame = pl.LazyFrame(\n",
    "    {\n",
    "        \"column1\": [\"value_1\", \"value_2\", \"value_3\", \"value_4\", \"value_5\"],\n",
    "        \"column2\": [0.1, 4, 0, 10, 9],\n",
    "        \"column3\": [\"value_a\", \"value_b\", \"value_c\", \"value_d\", \"value_e\"],\n",
    "    }\n",
    ")\n",
    "# index may have negative performance impact\n",
    "# lf = lf.with_row_index().cast(pl.Int64)\n",
    "display(lf.collect_schema())\n",
    "display(wrong_lazy_frame.collect_schema())\n",
    "lf"
   ]
  },
  {
   "cell_type": "code",
   "execution_count": 4,
   "metadata": {},
   "outputs": [
    {
     "name": "stdout",
     "output_type": "stream",
     "text": [
      "Validation error: expected column 'column1' to have type Int64, got String\n"
     ]
    },
    {
     "data": {
      "text/html": [
       "<div><style>\n",
       ".dataframe > thead > tr,\n",
       ".dataframe > tbody > tr {\n",
       "  text-align: right;\n",
       "  white-space: pre-wrap;\n",
       "}\n",
       "</style>\n",
       "<small>shape: (5, 3)</small><table border=\"1\" class=\"dataframe\"><thead><tr><th>column1</th><th>column2</th><th>column3</th></tr><tr><td>i64</td><td>f64</td><td>str</td></tr></thead><tbody><tr><td>1</td><td>-1.3</td><td>&quot;value_1&quot;</td></tr><tr><td>4</td><td>-1.4</td><td>&quot;value_2&quot;</td></tr><tr><td>0</td><td>-2.9</td><td>&quot;value_3&quot;</td></tr><tr><td>10</td><td>-10.1</td><td>&quot;value_2&quot;</td></tr><tr><td>9</td><td>-20.4</td><td>&quot;value_1&quot;</td></tr></tbody></table></div>"
      ],
      "text/plain": [
       "shape: (5, 3)\n",
       "┌─────────┬─────────┬─────────┐\n",
       "│ column1 ┆ column2 ┆ column3 │\n",
       "│ ---     ┆ ---     ┆ ---     │\n",
       "│ i64     ┆ f64     ┆ str     │\n",
       "╞═════════╪═════════╪═════════╡\n",
       "│ 1       ┆ -1.3    ┆ value_1 │\n",
       "│ 4       ┆ -1.4    ┆ value_2 │\n",
       "│ 0       ┆ -2.9    ┆ value_3 │\n",
       "│ 10      ┆ -10.1   ┆ value_2 │\n",
       "│ 9       ┆ -20.4   ┆ value_1 │\n",
       "└─────────┴─────────┴─────────┘"
      ]
     },
     "execution_count": 4,
     "metadata": {},
     "output_type": "execute_result"
    }
   ],
   "source": [
    "from openenergyid.pandera_poc.models import InputModel\n",
    "from openenergyid.pandera_poc.analysis import analyse\n",
    "\n",
    "InputModel.validate(lf).collect()  # type: ignore , issue with pandera-polars integration\n",
    "result = analyse(lf)\n",
    "OutputModel.validate(result)\n",
    "try:\n",
    "    # this only validates schema-level properties so we can continue doing lazy operations\n",
    "    InputModel.validate(wrong_lazy_frame)\n",
    "except Exception as e:\n",
    "    print(\"Validation error:\", str(e))\n",
    "\n",
    "result.collect()"
   ]
  }
 ],
 "metadata": {
  "kernelspec": {
   "display_name": "Python 3",
   "language": "python",
   "name": "python3"
  },
  "language_info": {
   "codemirror_mode": {
    "name": "ipython",
    "version": 3
   },
   "file_extension": ".py",
   "mimetype": "text/x-python",
   "name": "python",
   "nbconvert_exporter": "python",
   "pygments_lexer": "ipython3",
   "version": "3.11.9"
  }
 },
 "nbformat": 4,
 "nbformat_minor": 2
}
